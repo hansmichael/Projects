{
 "cells": [
  {
   "cell_type": "markdown",
   "metadata": {
    "collapsed": true,
    "pycharm": {
     "name": "#%% md\n"
    }
   },
   "source": [
    "<div>\n",
    "<h1 align=\"center\">Election project</h1>\n",
    "<h2 align=\"center\"> By: Hans Michael Célestin </h2>\n",
    "<br>\n",
    "\n",
    "</div>"
   ]
  },
  {
   "cell_type": "code",
   "execution_count": 6,
   "outputs": [],
   "source": [
    "import pandas as pd\n",
    "from pandas import Series, DataFrame\n",
    "import matplotlib.pyplot as plt\n",
    "import seaborn as sns\n",
    "sns.set_style('whitegrid')\n",
    "%matplotlib inline\n",
    "import scipy.stats as pearsonr\n",
    "from pandas_datareader import data, wb, DataReader\n",
    "import numpy as np\n",
    "from datetime import datetime\n",
    "\n"
   ],
   "metadata": {
    "collapsed": false,
    "pycharm": {
     "name": "#%%\n"
    }
   }
  },
  {
   "cell_type": "code",
   "execution_count": 7,
   "outputs": [],
   "source": [
    "import requests # grab info from web\n",
    "from io import StringIO"
   ],
   "metadata": {
    "collapsed": false,
    "pycharm": {
     "name": "#%%\n"
    }
   }
  },
  {
   "cell_type": "code",
   "execution_count": 8,
   "outputs": [],
   "source": [
    "url = \"http://elections.huffingtonpost.com/pollster/api/charts/2012-general-election-romney-vs-obama.csv\"\n",
    "\n",
    "source =requests.get(url).text\n",
    "poll_data =StringIO(source) # avoid string io error"
   ],
   "metadata": {
    "collapsed": false,
    "pycharm": {
     "name": "#%%\n"
    }
   }
  },
  {
   "cell_type": "code",
   "execution_count": 9,
   "outputs": [],
   "source": [
    "poll_df = pd.read_csv(poll_data)"
   ],
   "metadata": {
    "collapsed": false,
    "pycharm": {
     "name": "#%%\n"
    }
   }
  },
  {
   "cell_type": "code",
   "execution_count": 10,
   "outputs": [
    {
     "name": "stdout",
     "output_type": "stream",
     "text": [
      "<class 'pandas.core.frame.DataFrame'>\n",
      "RangeIndex: 428 entries, 0 to 427\n",
      "Data columns (total 13 columns):\n",
      " #   Column                Non-Null Count  Dtype  \n",
      "---  ------                --------------  -----  \n",
      " 0   Obama                 428 non-null    float64\n",
      " 1   Romney                428 non-null    float64\n",
      " 2   Undecided             276 non-null    float64\n",
      " 3   Other                 137 non-null    float64\n",
      " 4   poll_id               428 non-null    int64  \n",
      " 5   pollster              428 non-null    object \n",
      " 6   start_date            428 non-null    object \n",
      " 7   end_date              428 non-null    object \n",
      " 8   sample_subpopulation  428 non-null    object \n",
      " 9   sample_size           414 non-null    float64\n",
      " 10  mode                  428 non-null    object \n",
      " 11  partisanship          428 non-null    object \n",
      " 12  partisan_affiliation  428 non-null    object \n",
      "dtypes: float64(5), int64(1), object(7)\n",
      "memory usage: 43.6+ KB\n"
     ]
    }
   ],
   "source": [
    "poll_df.info()"
   ],
   "metadata": {
    "collapsed": false,
    "pycharm": {
     "name": "#%%\n"
    }
   }
  },
  {
   "cell_type": "code",
   "execution_count": 11,
   "outputs": [
    {
     "data": {
      "text/plain": "   Obama  Romney  Undecided  Other  poll_id                   pollster  \\\n0   47.0    47.0        6.0    NaN    16674  Politico/GWU/Battleground   \n1   49.0    47.0        3.0    NaN    16733           YouGov/Economist   \n2   48.0    48.0        4.0    NaN    16681           Gravis Marketing   \n3   50.0    49.0        NaN    1.0    16679                   IBD/TIPP   \n4   48.0    49.0        NaN    NaN    16677                  Rasmussen   \n\n   start_date    end_date sample_subpopulation  sample_size             mode  \\\n0  2012-11-04  2012-11-05        Likely Voters       1000.0       Live Phone   \n1  2012-11-03  2012-11-05        Likely Voters        740.0         Internet   \n2  2012-11-03  2012-11-05        Likely Voters        872.0  Automated Phone   \n3  2012-11-03  2012-11-05        Likely Voters        712.0       Live Phone   \n4  2012-11-03  2012-11-05        Likely Voters       1500.0  Automated Phone   \n\n  partisanship partisan_affiliation  \n0  Nonpartisan                 None  \n1  Nonpartisan                 None  \n2  Nonpartisan                 None  \n3  Nonpartisan                 None  \n4  Nonpartisan                 None  ",
      "text/html": "<div>\n<style scoped>\n    .dataframe tbody tr th:only-of-type {\n        vertical-align: middle;\n    }\n\n    .dataframe tbody tr th {\n        vertical-align: top;\n    }\n\n    .dataframe thead th {\n        text-align: right;\n    }\n</style>\n<table border=\"1\" class=\"dataframe\">\n  <thead>\n    <tr style=\"text-align: right;\">\n      <th></th>\n      <th>Obama</th>\n      <th>Romney</th>\n      <th>Undecided</th>\n      <th>Other</th>\n      <th>poll_id</th>\n      <th>pollster</th>\n      <th>start_date</th>\n      <th>end_date</th>\n      <th>sample_subpopulation</th>\n      <th>sample_size</th>\n      <th>mode</th>\n      <th>partisanship</th>\n      <th>partisan_affiliation</th>\n    </tr>\n  </thead>\n  <tbody>\n    <tr>\n      <th>0</th>\n      <td>47.0</td>\n      <td>47.0</td>\n      <td>6.0</td>\n      <td>NaN</td>\n      <td>16674</td>\n      <td>Politico/GWU/Battleground</td>\n      <td>2012-11-04</td>\n      <td>2012-11-05</td>\n      <td>Likely Voters</td>\n      <td>1000.0</td>\n      <td>Live Phone</td>\n      <td>Nonpartisan</td>\n      <td>None</td>\n    </tr>\n    <tr>\n      <th>1</th>\n      <td>49.0</td>\n      <td>47.0</td>\n      <td>3.0</td>\n      <td>NaN</td>\n      <td>16733</td>\n      <td>YouGov/Economist</td>\n      <td>2012-11-03</td>\n      <td>2012-11-05</td>\n      <td>Likely Voters</td>\n      <td>740.0</td>\n      <td>Internet</td>\n      <td>Nonpartisan</td>\n      <td>None</td>\n    </tr>\n    <tr>\n      <th>2</th>\n      <td>48.0</td>\n      <td>48.0</td>\n      <td>4.0</td>\n      <td>NaN</td>\n      <td>16681</td>\n      <td>Gravis Marketing</td>\n      <td>2012-11-03</td>\n      <td>2012-11-05</td>\n      <td>Likely Voters</td>\n      <td>872.0</td>\n      <td>Automated Phone</td>\n      <td>Nonpartisan</td>\n      <td>None</td>\n    </tr>\n    <tr>\n      <th>3</th>\n      <td>50.0</td>\n      <td>49.0</td>\n      <td>NaN</td>\n      <td>1.0</td>\n      <td>16679</td>\n      <td>IBD/TIPP</td>\n      <td>2012-11-03</td>\n      <td>2012-11-05</td>\n      <td>Likely Voters</td>\n      <td>712.0</td>\n      <td>Live Phone</td>\n      <td>Nonpartisan</td>\n      <td>None</td>\n    </tr>\n    <tr>\n      <th>4</th>\n      <td>48.0</td>\n      <td>49.0</td>\n      <td>NaN</td>\n      <td>NaN</td>\n      <td>16677</td>\n      <td>Rasmussen</td>\n      <td>2012-11-03</td>\n      <td>2012-11-05</td>\n      <td>Likely Voters</td>\n      <td>1500.0</td>\n      <td>Automated Phone</td>\n      <td>Nonpartisan</td>\n      <td>None</td>\n    </tr>\n  </tbody>\n</table>\n</div>"
     },
     "execution_count": 11,
     "metadata": {},
     "output_type": "execute_result"
    }
   ],
   "source": [
    "poll_df.head()"
   ],
   "metadata": {
    "collapsed": false,
    "pycharm": {
     "name": "#%%\n"
    }
   }
  },
  {
   "cell_type": "code",
   "execution_count": 12,
   "outputs": [
    {
     "name": "stderr",
     "output_type": "stream",
     "text": [
      "C:\\Users\\hansm\\anaconda3\\lib\\site-packages\\seaborn\\_decorators.py:36: FutureWarning: Pass the following variable as a keyword arg: x. From version 0.12, the only valid positional argument will be `data`, and passing other arguments without an explicit keyword will result in an error or misinterpretation.\n",
      "  warnings.warn(\n"
     ]
    },
    {
     "data": {
      "text/plain": "<AxesSubplot:xlabel='partisan_affiliation', ylabel='count'>"
     },
     "execution_count": 12,
     "metadata": {},
     "output_type": "execute_result"
    },
    {
     "data": {
      "text/plain": "<Figure size 432x288 with 1 Axes>",
      "image/png": "[encoded data removed]"
     },
     "metadata": {
      "needs_background": "light"
     },
     "output_type": "display_data"
    }
   ],
   "source": [
    "sns.countplot('partisan_affiliation',data=poll_df)\n"
   ],
   "metadata": {
    "collapsed": false,
    "pycharm": {
     "name": "#%%\n"
    }
   }
  },
  {
   "cell_type": "code",
   "execution_count": 15,
   "outputs": [
    {
     "name": "stderr",
     "output_type": "stream",
     "text": [
      "C:\\Users\\hansm\\anaconda3\\lib\\site-packages\\seaborn\\_decorators.py:36: FutureWarning: Pass the following variable as a keyword arg: x. From version 0.12, the only valid positional argument will be `data`, and passing other arguments without an explicit keyword will result in an error or misinterpretation.\n",
      "  warnings.warn(\n"
     ]
    },
    {
     "data": {
      "text/plain": "<AxesSubplot:xlabel='partisan_affiliation', ylabel='count'>"
     },
     "execution_count": 15,
     "metadata": {},
     "output_type": "execute_result"
    },
    {
     "data": {
      "text/plain": "<Figure size 432x288 with 1 Axes>",
      "image/png": "[encoded data removed]"
     },
     "metadata": {
      "needs_background": "light"
     },
     "output_type": "display_data"
    }
   ],
   "source": [
    "sns.countplot('partisan_affiliation',data=poll_df,hue='sample_subpopulation')"
   ],
   "metadata": {
    "collapsed": false,
    "pycharm": {
     "name": "#%%\n"
    }
   }
  },
  {
   "cell_type": "code",
   "execution_count": 17,
   "outputs": [
    {
     "data": {
      "text/plain": "   Obama  Romney  Undecided  Other  poll_id                   pollster  \\\n0   47.0    47.0        6.0    NaN    16674  Politico/GWU/Battleground   \n1   49.0    47.0        3.0    NaN    16733           YouGov/Economist   \n2   48.0    48.0        4.0    NaN    16681           Gravis Marketing   \n3   50.0    49.0        NaN    1.0    16679                   IBD/TIPP   \n4   48.0    49.0        NaN    NaN    16677                  Rasmussen   \n\n   start_date    end_date sample_subpopulation  sample_size             mode  \\\n0  2012-11-04  2012-11-05        Likely Voters       1000.0       Live Phone   \n1  2012-11-03  2012-11-05        Likely Voters        740.0         Internet   \n2  2012-11-03  2012-11-05        Likely Voters        872.0  Automated Phone   \n3  2012-11-03  2012-11-05        Likely Voters        712.0       Live Phone   \n4  2012-11-03  2012-11-05        Likely Voters       1500.0  Automated Phone   \n\n  partisanship partisan_affiliation  \n0  Nonpartisan                 None  \n1  Nonpartisan                 None  \n2  Nonpartisan                 None  \n3  Nonpartisan                 None  \n4  Nonpartisan                 None  ",
      "text/html": "<div>\n<style scoped>\n    .dataframe tbody tr th:only-of-type {\n        vertical-align: middle;\n    }\n\n    .dataframe tbody tr th {\n        vertical-align: top;\n    }\n\n    .dataframe thead th {\n        text-align: right;\n    }\n</style>\n<table border=\"1\" class=\"dataframe\">\n  <thead>\n    <tr style=\"text-align: right;\">\n      <th></th>\n      <th>Obama</th>\n      <th>Romney</th>\n      <th>Undecided</th>\n      <th>Other</th>\n      <th>poll_id</th>\n      <th>pollster</th>\n      <th>start_date</th>\n      <th>end_date</th>\n      <th>sample_subpopulation</th>\n      <th>sample_size</th>\n      <th>mode</th>\n      <th>partisanship</th>\n      <th>partisan_affiliation</th>\n    </tr>\n  </thead>\n  <tbody>\n    <tr>\n      <th>0</th>\n      <td>47.0</td>\n      <td>47.0</td>\n      <td>6.0</td>\n      <td>NaN</td>\n      <td>16674</td>\n      <td>Politico/GWU/Battleground</td>\n      <td>2012-11-04</td>\n      <td>2012-11-05</td>\n      <td>Likely Voters</td>\n      <td>1000.0</td>\n      <td>Live Phone</td>\n      <td>Nonpartisan</td>\n      <td>None</td>\n    </tr>\n    <tr>\n      <th>1</th>\n      <td>49.0</td>\n      <td>47.0</td>\n      <td>3.0</td>\n      <td>NaN</td>\n      <td>16733</td>\n      <td>YouGov/Economist</td>\n      <td>2012-11-03</td>\n      <td>2012-11-05</td>\n      <td>Likely Voters</td>\n      <td>740.0</td>\n      <td>Internet</td>\n      <td>Nonpartisan</td>\n      <td>None</td>\n    </tr>\n    <tr>\n      <th>2</th>\n      <td>48.0</td>\n      <td>48.0</td>\n      <td>4.0</td>\n      <td>NaN</td>\n      <td>16681</td>\n      <td>Gravis Marketing</td>\n      <td>2012-11-03</td>\n      <td>2012-11-05</td>\n      <td>Likely Voters</td>\n      <td>872.0</td>\n      <td>Automated Phone</td>\n      <td>Nonpartisan</td>\n      <td>None</td>\n    </tr>\n    <tr>\n      <th>3</th>\n      <td>50.0</td>\n      <td>49.0</td>\n      <td>NaN</td>\n      <td>1.0</td>\n      <td>16679</td>\n      <td>IBD/TIPP</td>\n      <td>2012-11-03</td>\n      <td>2012-11-05</td>\n      <td>Likely Voters</td>\n      <td>712.0</td>\n      <td>Live Phone</td>\n      <td>Nonpartisan</td>\n      <td>None</td>\n    </tr>\n    <tr>\n      <th>4</th>\n      <td>48.0</td>\n      <td>49.0</td>\n      <td>NaN</td>\n      <td>NaN</td>\n      <td>16677</td>\n      <td>Rasmussen</td>\n      <td>2012-11-03</td>\n      <td>2012-11-05</td>\n      <td>Likely Voters</td>\n      <td>1500.0</td>\n      <td>Automated Phone</td>\n      <td>Nonpartisan</td>\n      <td>None</td>\n    </tr>\n  </tbody>\n</table>\n</div>"
     },
     "execution_count": 17,
     "metadata": {},
     "output_type": "execute_result"
    }
   ],
   "source": [
    "poll_df.head()"
   ],
   "metadata": {
    "collapsed": false,
    "pycharm": {
     "name": "#%%\n"
    }
   }
  },
  {
   "cell_type": "code",
   "execution_count": 26,
   "outputs": [],
   "source": [
    "avg =pd.DataFrame(poll_df.mean())\n",
    "avg.drop(['poll_id','sample_size'],axis =0 ,inplace=True)"
   ],
   "metadata": {
    "collapsed": false,
    "pycharm": {
     "name": "#%%\n"
    }
   }
  },
  {
   "cell_type": "code",
   "execution_count": 29,
   "outputs": [
    {
     "data": {
      "text/plain": "                   0\nObama      47.161215\nRomney     45.228972\nUndecided   5.615942\nOther       2.686131",
      "text/html": "<div>\n<style scoped>\n    .dataframe tbody tr th:only-of-type {\n        vertical-align: middle;\n    }\n\n    .dataframe tbody tr th {\n        vertical-align: top;\n    }\n\n    .dataframe thead th {\n        text-align: right;\n    }\n</style>\n<table border=\"1\" class=\"dataframe\">\n  <thead>\n    <tr style=\"text-align: right;\">\n      <th></th>\n      <th>0</th>\n    </tr>\n  </thead>\n  <tbody>\n    <tr>\n      <th>Obama</th>\n      <td>47.161215</td>\n    </tr>\n    <tr>\n      <th>Romney</th>\n      <td>45.228972</td>\n    </tr>\n    <tr>\n      <th>Undecided</th>\n      <td>5.615942</td>\n    </tr>\n    <tr>\n      <th>Other</th>\n      <td>2.686131</td>\n    </tr>\n  </tbody>\n</table>\n</div>"
     },
     "execution_count": 29,
     "metadata": {},
     "output_type": "execute_result"
    }
   ],
   "source": [
    "avg.head()"
   ],
   "metadata": {
    "collapsed": false,
    "pycharm": {
     "name": "#%%\n"
    }
   }
  },
  {
   "cell_type": "code",
   "execution_count": 37,
   "outputs": [],
   "source": [
    "std =pd.DataFrame(poll_df.std())\n",
    "std.drop(['poll_id','sample_size'],axis =0 ,inplace=True)"
   ],
   "metadata": {
    "collapsed": false,
    "pycharm": {
     "name": "#%%\n"
    }
   }
  },
  {
   "cell_type": "code",
   "execution_count": 39,
   "outputs": [
    {
     "data": {
      "text/plain": "                  0\nObama      2.100449\nRomney     2.370565\nUndecided  2.629407\nOther      1.612232",
      "text/html": "<div>\n<style scoped>\n    .dataframe tbody tr th:only-of-type {\n        vertical-align: middle;\n    }\n\n    .dataframe tbody tr th {\n        vertical-align: top;\n    }\n\n    .dataframe thead th {\n        text-align: right;\n    }\n</style>\n<table border=\"1\" class=\"dataframe\">\n  <thead>\n    <tr style=\"text-align: right;\">\n      <th></th>\n      <th>0</th>\n    </tr>\n  </thead>\n  <tbody>\n    <tr>\n      <th>Obama</th>\n      <td>2.100449</td>\n    </tr>\n    <tr>\n      <th>Romney</th>\n      <td>2.370565</td>\n    </tr>\n    <tr>\n      <th>Undecided</th>\n      <td>2.629407</td>\n    </tr>\n    <tr>\n      <th>Other</th>\n      <td>1.612232</td>\n    </tr>\n  </tbody>\n</table>\n</div>"
     },
     "execution_count": 39,
     "metadata": {},
     "output_type": "execute_result"
    }
   ],
   "source": [
    "std.head()"
   ],
   "metadata": {
    "collapsed": false,
    "pycharm": {
     "name": "#%%\n"
    }
   }
  },
  {
   "cell_type": "code",
   "execution_count": 41,
   "outputs": [
    {
     "data": {
      "text/plain": "<AxesSubplot:>"
     },
     "execution_count": 41,
     "metadata": {},
     "output_type": "execute_result"
    },
    {
     "data": {
      "text/plain": "<Figure size 432x288 with 1 Axes>",
      "image/png": "[encoded data removed]"
     },
     "metadata": {
      "needs_background": "light"
     },
     "output_type": "display_data"
    }
   ],
   "source": [
    "avg.plot(yerr=std,kind='bar',legend=False)"
   ],
   "metadata": {
    "collapsed": false,
    "pycharm": {
     "name": "#%%\n"
    }
   }
  },
  {
   "cell_type": "code",
   "execution_count": 45,
   "outputs": [
    {
     "data": {
      "text/plain": "             Avarage       STD\nObama      47.161215  2.100449\nRomney     45.228972  2.370565\nUndecided   5.615942  2.629407\nOther       2.686131  1.612232",
      "text/html": "<div>\n<style scoped>\n    .dataframe tbody tr th:only-of-type {\n        vertical-align: middle;\n    }\n\n    .dataframe tbody tr th {\n        vertical-align: top;\n    }\n\n    .dataframe thead th {\n        text-align: right;\n    }\n</style>\n<table border=\"1\" class=\"dataframe\">\n  <thead>\n    <tr style=\"text-align: right;\">\n      <th></th>\n      <th>Avarage</th>\n      <th>STD</th>\n    </tr>\n  </thead>\n  <tbody>\n    <tr>\n      <th>Obama</th>\n      <td>47.161215</td>\n      <td>2.100449</td>\n    </tr>\n    <tr>\n      <th>Romney</th>\n      <td>45.228972</td>\n      <td>2.370565</td>\n    </tr>\n    <tr>\n      <th>Undecided</th>\n      <td>5.615942</td>\n      <td>2.629407</td>\n    </tr>\n    <tr>\n      <th>Other</th>\n      <td>2.686131</td>\n      <td>1.612232</td>\n    </tr>\n  </tbody>\n</table>\n</div>"
     },
     "execution_count": 45,
     "metadata": {},
     "output_type": "execute_result"
    }
   ],
   "source": [
    "poll_avg = pd.concat([avg,std],axis=1)\n",
    "poll_avg.columns= ['Avarage','STD']\n",
    "poll_avg"
   ],
   "metadata": {
    "collapsed": false,
    "pycharm": {
     "name": "#%%\n"
    }
   }
  },
  {
   "cell_type": "code",
   "execution_count": null,
   "outputs": [],
   "source": [],
   "metadata": {
    "collapsed": false,
    "pycharm": {
     "name": "#%%\n"
    }
   }
  }
 ],
 "metadata": {
  "kernelspec": {
   "name": "pycharm-8eaf9966",
   "language": "python",
   "display_name": "PyCharm (ELE8812)"
  },
  "language_info": {
   "codemirror_mode": {
    "name": "ipython",
    "version": 2
   },
   "file_extension": ".py",
   "mimetype": "text/x-python",
   "name": "python",
   "nbconvert_exporter": "python",
   "pygments_lexer": "ipython2",
   "version": "2.7.6"
  }
 },
 "nbformat": 4,
 "nbformat_minor": 0
}